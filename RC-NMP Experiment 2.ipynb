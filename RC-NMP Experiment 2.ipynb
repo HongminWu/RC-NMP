{
 "cells": [
  {
   "cell_type": "code",
   "execution_count": 1,
   "metadata": {},
   "outputs": [
    {
     "name": "stderr",
     "output_type": "stream",
     "text": [
      "/home/tuluhan/.local/lib/python3.5/site-packages/tensorflow/python/framework/dtypes.py:516: FutureWarning: Passing (type, 1) or '1type' as a synonym of type is deprecated; in a future version of numpy, it will be understood as (type, (1,)) / '(1,)type'.\n",
      "  _np_qint8 = np.dtype([(\"qint8\", np.int8, 1)])\n",
      "/home/tuluhan/.local/lib/python3.5/site-packages/tensorflow/python/framework/dtypes.py:517: FutureWarning: Passing (type, 1) or '1type' as a synonym of type is deprecated; in a future version of numpy, it will be understood as (type, (1,)) / '(1,)type'.\n",
      "  _np_quint8 = np.dtype([(\"quint8\", np.uint8, 1)])\n",
      "/home/tuluhan/.local/lib/python3.5/site-packages/tensorflow/python/framework/dtypes.py:518: FutureWarning: Passing (type, 1) or '1type' as a synonym of type is deprecated; in a future version of numpy, it will be understood as (type, (1,)) / '(1,)type'.\n",
      "  _np_qint16 = np.dtype([(\"qint16\", np.int16, 1)])\n",
      "/home/tuluhan/.local/lib/python3.5/site-packages/tensorflow/python/framework/dtypes.py:519: FutureWarning: Passing (type, 1) or '1type' as a synonym of type is deprecated; in a future version of numpy, it will be understood as (type, (1,)) / '(1,)type'.\n",
      "  _np_quint16 = np.dtype([(\"quint16\", np.uint16, 1)])\n",
      "/home/tuluhan/.local/lib/python3.5/site-packages/tensorflow/python/framework/dtypes.py:520: FutureWarning: Passing (type, 1) or '1type' as a synonym of type is deprecated; in a future version of numpy, it will be understood as (type, (1,)) / '(1,)type'.\n",
      "  _np_qint32 = np.dtype([(\"qint32\", np.int32, 1)])\n",
      "/home/tuluhan/.local/lib/python3.5/site-packages/tensorflow/python/framework/dtypes.py:525: FutureWarning: Passing (type, 1) or '1type' as a synonym of type is deprecated; in a future version of numpy, it will be understood as (type, (1,)) / '(1,)type'.\n",
      "  np_resource = np.dtype([(\"resource\", np.ubyte, 1)])\n",
      "/home/tuluhan/.local/lib/python3.5/site-packages/tensorboard/compat/tensorflow_stub/dtypes.py:541: FutureWarning: Passing (type, 1) or '1type' as a synonym of type is deprecated; in a future version of numpy, it will be understood as (type, (1,)) / '(1,)type'.\n",
      "  _np_qint8 = np.dtype([(\"qint8\", np.int8, 1)])\n",
      "/home/tuluhan/.local/lib/python3.5/site-packages/tensorboard/compat/tensorflow_stub/dtypes.py:542: FutureWarning: Passing (type, 1) or '1type' as a synonym of type is deprecated; in a future version of numpy, it will be understood as (type, (1,)) / '(1,)type'.\n",
      "  _np_quint8 = np.dtype([(\"quint8\", np.uint8, 1)])\n",
      "/home/tuluhan/.local/lib/python3.5/site-packages/tensorboard/compat/tensorflow_stub/dtypes.py:543: FutureWarning: Passing (type, 1) or '1type' as a synonym of type is deprecated; in a future version of numpy, it will be understood as (type, (1,)) / '(1,)type'.\n",
      "  _np_qint16 = np.dtype([(\"qint16\", np.int16, 1)])\n",
      "/home/tuluhan/.local/lib/python3.5/site-packages/tensorboard/compat/tensorflow_stub/dtypes.py:544: FutureWarning: Passing (type, 1) or '1type' as a synonym of type is deprecated; in a future version of numpy, it will be understood as (type, (1,)) / '(1,)type'.\n",
      "  _np_quint16 = np.dtype([(\"quint16\", np.uint16, 1)])\n",
      "/home/tuluhan/.local/lib/python3.5/site-packages/tensorboard/compat/tensorflow_stub/dtypes.py:545: FutureWarning: Passing (type, 1) or '1type' as a synonym of type is deprecated; in a future version of numpy, it will be understood as (type, (1,)) / '(1,)type'.\n",
      "  _np_qint32 = np.dtype([(\"qint32\", np.int32, 1)])\n",
      "/home/tuluhan/.local/lib/python3.5/site-packages/tensorboard/compat/tensorflow_stub/dtypes.py:550: FutureWarning: Passing (type, 1) or '1type' as a synonym of type is deprecated; in a future version of numpy, it will be understood as (type, (1,)) / '(1,)type'.\n",
      "  np_resource = np.dtype([(\"resource\", np.ubyte, 1)])\n",
      "Using TensorFlow backend.\n"
     ]
    },
    {
     "data": {
      "text/html": [
       "<style>.container { width:90% !important; }</style>"
      ],
      "text/plain": [
       "<IPython.core.display.HTML object>"
      ]
     },
     "metadata": {},
     "output_type": "display_data"
    }
   ],
   "source": [
    "import tensorflow as tf\n",
    "import keras\n",
    "from keras.layers import Softmax,Input,TimeDistributed,Dense,Average,GlobalAveragePooling1D,Concatenate,Lambda,RepeatVector\n",
    "from keras.models import Model, load_model\n",
    "from keras.optimizers import Adam\n",
    "from keras.utils import plot_model\n",
    "import tensorflow.keras.backend as K\n",
    "import numpy as np\n",
    "import matplotlib.pyplot as plt\n",
    "import math\n",
    "import time\n",
    "import pylab as pl\n",
    "from IPython import display\n",
    "from IPython.core.display import HTML\n",
    "from IPython.core.display import display as html_width\n",
    "import tensorflow_probability as tfp\n",
    "from scipy.interpolate import UnivariateSpline\n",
    "\n",
    "html_width(HTML(\"<style>.container { width:90% !important; }</style>\"))"
   ]
  },
  {
   "cell_type": "markdown",
   "metadata": {},
   "source": [
    "The code base is taken from https://github.com/rssCNMP/CNMP. "
   ]
  },
  {
   "cell_type": "markdown",
   "metadata": {},
   "source": [
    "## Second experiment:\n",
    "Second experiment of the <b>Reward Conditioned Neural Movement Primitives for Population Based Variational Policy Optimization</b>\n",
    "In this experiment, no demonstration is used. PD controller is not included in this experiment as well."
   ]
  },
  {
   "cell_type": "markdown",
   "metadata": {},
   "source": [
    "Reward function to evaluate trajectories."
   ]
  },
  {
   "cell_type": "code",
   "execution_count": 2,
   "metadata": {},
   "outputs": [],
   "source": [
    "def reward_func(Y_array,point_array):\n",
    "    reward = 0\n",
    "    for i in range(len(point_array)):\n",
    "        k = int(point_array[i,0])\n",
    "        reward = reward + 2*np.absolute(Y_array[k]-point_array[i,1])\n",
    "    return reward"
   ]
  },
  {
   "cell_type": "code",
   "execution_count": 3,
   "metadata": {},
   "outputs": [],
   "source": [
    "time_len = time_N = 200\n",
    "times = np.linspace(0,1,time_len)\n",
    "data_size = 1\n",
    "Y = np.zeros((data_size,time_N,1))\n",
    "X = np.zeros((data_size,time_N,2))        \n",
    "test_X = np.zeros((1,time_N,2))\n",
    "for i in range(1):\n",
    "    for j in range(time_N):\n",
    "        test_X[i,j,0]=times[j]\n",
    "        test_X[i,j,1]=0.05\n",
    "        "
   ]
  },
  {
   "cell_type": "markdown",
   "metadata": {},
   "source": [
    "## Loading model inputs\n",
    "<b>Input Requirements</b>:\n",
    "\n",
    "* <b>obs_max</b>: Hyperparameter that decides to the maximum number of observations NMP uses. In this experiment, it is set to 5\n",
    "* <b>d_N</b>: Number of demonstrations\n",
    "\n",
    "* <b>d_x</b>: X vector feature dim (NOTE THAT: external parameters are assumed to be inside of the X vector, concatenated to time value. This experiment does not use external parameters so d_x = 1)\n",
    "\n",
    "* <b>d_y</b>: Y vector feature dim\n",
    "\n",
    "* <b>time_len</b>: length of the demonstrations, if all demonstrations does not have same length, use array and edit methods using time_len, or preprocess your data to interpolate into same time length (check numpy.interp)\n",
    "\n",
    "* <b>X</b>: shape=(d_N,time_len,d_x) --- time (and external parameter) values for each timestep for ith demonstration. d_x = 1+d_external_parameters\n",
    "\n",
    "* <b>Y</b>: shape=(d_N,time_len,d_y) --- corresponding values of f(X) for ith demonstration\n",
    "\n",
    "* <b>obs_mlp_layers</b>: Hidden neuron numbers of the dense layers inside of the Observation multi layer perceptron. Layer numbers can adapt to the list size. Last layer is always Linear, others are ReLU activated.\n",
    "\n",
    "* <b>decoder_layers</b>: Hidden neuron numbers of the dense layers inside of the Decoder multi layer perceptron. Layer numbers can adapt to the list size. Last layer size is always 2*d_y and activation is Linear, others are ReLU activated."
   ]
  },
  {
   "cell_type": "code",
   "execution_count": 4,
   "metadata": {},
   "outputs": [
    {
     "name": "stdout",
     "output_type": "stream",
     "text": [
      "d_N= 1\n",
      "obs_max= 5\n",
      "X (1, 200, 2) , Y (1, 200, 1)\n",
      "d_x= 2\n",
      "d_y= 1\n",
      "time_len= 200\n"
     ]
    }
   ],
   "source": [
    "obs_max = 5 \n",
    "d_N = X.shape[0] \n",
    "d_x , d_y = (X.shape[-1] , Y.shape[-1])\n",
    "time_len = X.shape[1]\n",
    "obs_mlp_layers = [128,64,32,16,8,4]\n",
    "decoder_layers = [128,128,d_y]\n",
    "\n",
    "print ('d_N=', d_N)\n",
    "print ('obs_max=', obs_max)\n",
    "print ('X',X.shape,', Y',Y.shape)\n",
    "print ('d_x=',d_x)\n",
    "print ('d_y=',d_y)\n",
    "print ('time_len=', time_len )"
   ]
  },
  {
   "cell_type": "markdown",
   "metadata": {},
   "source": [
    "# Reward Conditioned Neural Movement Primitives"
   ]
  },
  {
   "cell_type": "markdown",
   "metadata": {},
   "source": [
    "### <b>get_train_sample()</b>: \n",
    "* Selects a random observation number, n\n",
    "* Selects a random demonstration id, d\n",
    "* Permutes demonstration d, so the first n data can be observation. Selects (n+1)th data to be the target point\n",
    "* Returns observations and target_X as inputs to the model to predict target_Y"
   ]
  },
  {
   "cell_type": "code",
   "execution_count": 5,
   "metadata": {},
   "outputs": [],
   "source": [
    "def get_train_sample():\n",
    "    n = np.random.randint(0,obs_max)+1\n",
    "    d = np.random.randint(0, d_N)\n",
    "    observation = np.zeros((1,n,d_x+d_y)) \n",
    "    target_X = np.zeros((1,1,d_x))\n",
    "    target_Y = np.zeros((1,1,d_y))\n",
    "    perm = np.random.permutation(time_len)\n",
    "    observation[0,:n,:d_x] = X[d,perm[:n]]\n",
    "    observation[0,:n,d_x:d_x+d_y] = Y[d,perm[:n]]\n",
    "    target_X[0,0] = X[d,perm[n]]\n",
    "    target_Y[0,0,:d_y] = Y[d,perm[n]]\n",
    "    return [observation,target_X], target_Y"
   ]
  },
  {
   "cell_type": "markdown",
   "metadata": {},
   "source": [
    "### <b>predict_model()</b>: \n",
    "* Predicts whole trajectory according to the given observation batch\n",
    "* <b>observation</b>: observation points as a batch. \n",
    "  * Dimension must be -> (1, obs_n, d_x+d_y) where obs_n is the number of observations for this prediction\n",
    "* <b>target_X</b>: target X points as a batch. Model can predict one, multi, partial or whole trajectory/points as long as input is shaped as a batch\n",
    "  * Dimension must be -> (1, target_n, d_x) where target_n is the number of points to predict\n",
    "  * For whole trajectory give all X points through time length as a batch (for ex. the first demonstration = X[0].reshape=(1,time_len,d_x) \n",
    "* <b>prediction</b>: Output that holds predicted means and standart deviations for each time point in the X. Later splitted into <b>predicted_Y</b> and <b>predicted_std</b>\n",
    "* <b>plot</b>: if True, plots demonstrations and predicted distribution\n",
    "* Returns predicted means and stds"
   ]
  },
  {
   "cell_type": "code",
   "execution_count": 6,
   "metadata": {},
   "outputs": [],
   "source": [
    "def predict_model(observation, target_X,point_array, plot = True):\n",
    "    predicted_Y = np.zeros((time_len,d_y))\n",
    "    predicted_std = np.zeros((time_len,d_y))\n",
    "    prediction = model.predict([observation,target_X])[0][0]\n",
    "    predicted_Y = prediction[:,:d_y]\n",
    "    #predicted_std = np.log(1+np.exp(prediction[:,d_y:]))\n",
    "    if plot: # We highly recommend that you customize your own plot function, but you can use this function as default\n",
    "        for i in range(d_y): #for every feature in Y vector we are plotting training data and its prediction\n",
    "            fig = plt.figure(figsize=(5,5))\n",
    "            for j in range(d_N):\n",
    "                plt.plot(X[j,:,0],Y[j,:,i]) # assuming X[j,:,0] is time\n",
    "            plt.plot(X[j,:,0],predicted_Y[:,i],color='black')\n",
    "            #plt.errorbar(X[j,:,0],predicted_Y[:,i],yerr=predicted_std[:,i],color = 'black',alpha=0.4)\n",
    "            for j in range(len(point_array)):\n",
    "                plt.scatter(times[int(point_array[j,0])],point_array[j,1],marker=\"X\",color='black')\n",
    "            \n",
    "            plt.show()  \n",
    "    return predicted_Y, predicted_std"
   ]
  },
  {
   "cell_type": "markdown",
   "metadata": {},
   "source": [
    "### Z Sampling():\n",
    "* Samples z according to given mean and log variance"
   ]
  },
  {
   "cell_type": "code",
   "execution_count": 7,
   "metadata": {},
   "outputs": [],
   "source": [
    "def z_sampling(args):\n",
    "    z_m, z_l_v = args\n",
    "    batch = K.shape(z_m)[0]\n",
    "    dim = K.int_shape(z_m)[-1]\n",
    "    # by default, random_normal has mean = 0 and std = 1.0\n",
    "    epsilon = K.random_normal(shape=(batch, dim))\n",
    "    return z_m + K.exp(0.5 * z_l_v) * epsilon\n",
    "\n",
    "def s_sampling(args):\n",
    "    d_m, d_l_v = args\n",
    "    batch = K.shape(d_m)[0]\n",
    "    dim = K.int_shape(d_m)[-1]\n",
    "    # by default, random_normal has mean = 0 and std = 1.0\n",
    "    epsilon = K.random_normal(shape=(batch, dim))\n",
    "    epsilon = K.repeat(epsilon,K.shape(d_m)[1])\n",
    "    return d_m + K.exp(0.5 * d_l_v) * epsilon"
   ]
  },
  {
   "cell_type": "markdown",
   "metadata": {},
   "source": [
    "### MLP():\n",
    "\n",
    "* Constructs a multilayer perceptron according to the given input dimension and layer sizes.\n",
    "* <b>input_dim</b>: dimension of the input feature vector\n",
    "* <b>layers</b>: Constructs a dense layer for each number in the list. Layer numbers are flexible to list size. Except for the last layer, all layers are ReLU activated.\n",
    "  * ex: (2,[128,128,128]) Constructs a multi layer perceptron with each dense layer's neuron sizes correspond to (2->128->128->128) from input to output\n",
    "  * ex: (4,[128,4]) Constructs a multi layer perceptron with each dense layer's neuron sizes correspond to (4->128->4) from input to output\n",
    "* <b>parallel_input</b>:\n",
    "  * if <b>False</b>, MLP acts as classical fully connected MLP. Output is a single result.\n",
    "  * if <b>True</b>, MLP acts as a single parameter-sharing network. Every tuple in the input batch passes through MLP paralelly, independently from each other. Output is a batch which every row is the result of the corresponding tuple from the input batch passing through the parameter-sharing network.\n",
    "  * <b>TLDR;</b> use parallel input for encoding observations into representations, and fully connected MLP for every any other dense networks."
   ]
  },
  {
   "cell_type": "code",
   "execution_count": 8,
   "metadata": {},
   "outputs": [],
   "source": [
    "def MLP(input_dim, layers, name=\"mlp\", parallel_inputs=False):\n",
    "    input_layer = Input(shape=(None, input_dim),name=name+'_input')\n",
    "    for i in range(len(layers)-1):\n",
    "        hidden = TimeDistributed(Dense(layers[i], activation='relu'), name=name+'_'+str(i))(input_layer if i == 0 else hidden) if parallel_inputs else Dense(layers[i], activation='relu', name=name+'_'+str(i))(input_layer if i == 0 else hidden)\n",
    "    hidden = TimeDistributed(Dense(layers[-1]), name=name+'_output')(hidden) if parallel_inputs else Dense(layers[-1], name=name+'_output')(hidden)\n",
    "    return Model(input_layer, hidden, name=name)"
   ]
  },
  {
   "cell_type": "markdown",
   "metadata": {},
   "source": [
    "## NMP model:"
   ]
  },
  {
   "cell_type": "code",
   "execution_count": 9,
   "metadata": {
    "colab": {
     "base_uri": "https://localhost:8080/",
     "height": 1000
    },
    "colab_type": "code",
    "id": "xoe9zlfGwCts",
    "outputId": "b21a1f80-9d22-422f-efaa-83dbf1a5cca3",
    "scrolled": false
   },
   "outputs": [
    {
     "name": "stderr",
     "output_type": "stream",
     "text": [
      "WARNING: Logging before flag parsing goes to stderr.\n",
      "W1119 17:26:29.832560 140644054066944 deprecation_wrapper.py:119] From /home/tuluhan/.local/lib/python3.5/site-packages/keras/backend/tensorflow_backend.py:517: The name tf.placeholder is deprecated. Please use tf.compat.v1.placeholder instead.\n",
      "\n",
      "W1119 17:26:29.849770 140644054066944 deprecation_wrapper.py:119] From /home/tuluhan/.local/lib/python3.5/site-packages/keras/backend/tensorflow_backend.py:74: The name tf.get_default_graph is deprecated. Please use tf.compat.v1.get_default_graph instead.\n",
      "\n",
      "W1119 17:26:29.851141 140644054066944 deprecation_wrapper.py:119] From /home/tuluhan/.local/lib/python3.5/site-packages/keras/backend/tensorflow_backend.py:4138: The name tf.random_uniform is deprecated. Please use tf.random.uniform instead.\n",
      "\n",
      "W1119 17:26:30.203750 140644054066944 deprecation_wrapper.py:119] From /home/tuluhan/.local/lib/python3.5/site-packages/keras/optimizers.py:790: The name tf.train.Optimizer is deprecated. Please use tf.compat.v1.train.Optimizer instead.\n",
      "\n"
     ]
    },
    {
     "name": "stdout",
     "output_type": "stream",
     "text": [
      "__________________________________________________________________________________________________\n",
      "Layer (type)                    Output Shape         Param #     Connected to                     \n",
      "==================================================================================================\n",
      "observation (InputLayer)        (None, None, 3)      0                                            \n",
      "__________________________________________________________________________________________________\n",
      "obs_mlp (Model)                 (None, None, 4)      11548       observation[0][0]                \n",
      "__________________________________________________________________________________________________\n",
      "global_average_pooling1d_1 (Glo (None, 4)            0           obs_mlp[1][0]                    \n",
      "__________________________________________________________________________________________________\n",
      "z_mean (Dense)                  (None, 4)            20          global_average_pooling1d_1[0][0] \n",
      "__________________________________________________________________________________________________\n",
      "z_log_var (Dense)               (None, 4)            20          global_average_pooling1d_1[0][0] \n",
      "__________________________________________________________________________________________________\n",
      "z (Lambda)                      (None, 4)            0           z_mean[0][0]                     \n",
      "                                                                 z_log_var[0][0]                  \n",
      "__________________________________________________________________________________________________\n",
      "target (InputLayer)             (None, None, 2)      0                                            \n",
      "__________________________________________________________________________________________________\n",
      "Repeat_z (Lambda)               (None, None, 4)      0           z[0][0]                          \n",
      "                                                                 target[0][0]                     \n",
      "__________________________________________________________________________________________________\n",
      "merged (Concatenate)            (None, None, 6)      0           Repeat_z[0][0]                   \n",
      "                                                                 target[0][0]                     \n",
      "__________________________________________________________________________________________________\n",
      "decoder_mlp (Model)             (None, None, 1)      17537       merged[0][0]                     \n",
      "==================================================================================================\n",
      "Total params: 29,125\n",
      "Trainable params: 29,125\n",
      "Non-trainable params: 0\n",
      "__________________________________________________________________________________________________\n"
     ]
    },
    {
     "name": "stderr",
     "output_type": "stream",
     "text": [
      "/home/tuluhan/.local/lib/python3.5/site-packages/ipykernel_launcher.py:26: UserWarning: Output \"z_log_var\" missing from loss dictionary. We assume this was done on purpose, and we will not be expecting any data to be passed to \"z_log_var\" during training.\n"
     ]
    }
   ],
   "source": [
    "observation_layer = Input(shape=(None,d_x+d_y), name=\"observation\") # (x_o,y_o) tuples\n",
    "target_X_layer = Input(shape=(None,d_x), name=\"target\") # x_q\n",
    "\n",
    "ObsMLP = MLP(d_x+d_y, obs_mlp_layers, name='obs_mlp', parallel_inputs=True) # Network E\n",
    "obs_representations = ObsMLP(observation_layer) # r_i\n",
    "general_representation1 = GlobalAveragePooling1D()(obs_representations) # r\n",
    "\n",
    "z_mean = Dense(4,name='z_mean')(general_representation1) # Z mean\n",
    "z_log_var = Dense(4,name='z_log_var')(general_representation1) # Z log var\n",
    "z_log_var2 = Lambda(lambda x: 0.001+tf.nn.softplus(x))(z_log_var)\n",
    "z = Lambda(z_sampling, output_shape=(4,), name='z')([z_mean, z_log_var]) # Z Sample\n",
    "z = Lambda(lambda x: tf.keras.backend.repeat(x[0],tf.shape(x[1])[1]), name='Repeat_z')([z,target_X_layer]) # z in batch form (same)\n",
    "\n",
    "merged_layer = Concatenate(axis=2, name='merged')([z,target_X_layer]) # (r,x_q) tuple\n",
    "Decoder = MLP(d_x+obs_mlp_layers[-1], decoder_layers, name = 'decoder_mlp', parallel_inputs=False) # Network Q\n",
    "output = Decoder(merged_layer) # (mean_q, std_q)\n",
    "\n",
    "vae_loss = 1 * K.sum(K.exp(z_log_var) + K.square(z_mean) - 1. - z_log_var, axis=1)\n",
    "\n",
    "model = Model([observation_layer, target_X_layer],[output,z_log_var])\n",
    "model_z = Model([observation_layer],z_mean)\n",
    "model_z_var = Model([observation_layer],z_log_var)\n",
    "model_z_var2 = Model([observation_layer],z_log_var2)\n",
    "\n",
    "model.add_loss(vae_loss)\n",
    "model.compile(optimizer = Adam(lr = 1e-4), loss={'decoder_mlp': 'mse'})\n",
    "model.summary()\n",
    "\n",
    "rep_model = Model([observation_layer],general_representation1)\n"
   ]
  },
  {
   "cell_type": "markdown",
   "metadata": {},
   "source": [
    "### generator():\n",
    "\n",
    "* Generates data using get_train_sample function during training"
   ]
  },
  {
   "cell_type": "code",
   "execution_count": 10,
   "metadata": {},
   "outputs": [
    {
     "name": "stderr",
     "output_type": "stream",
     "text": [
      "W1119 17:26:30.227921 140644054066944 deprecation_wrapper.py:119] From /home/tuluhan/.local/lib/python3.5/site-packages/keras/backend/tensorflow_backend.py:174: The name tf.get_default_session is deprecated. Please use tf.compat.v1.get_default_session instead.\n",
      "\n",
      "W1119 17:26:30.228983 140644054066944 deprecation_wrapper.py:119] From /home/tuluhan/.local/lib/python3.5/site-packages/keras/backend/tensorflow_backend.py:181: The name tf.ConfigProto is deprecated. Please use tf.compat.v1.ConfigProto instead.\n",
      "\n"
     ]
    }
   ],
   "source": [
    "model.save_weights('initial_weights.h5')"
   ]
  },
  {
   "cell_type": "code",
   "execution_count": 11,
   "metadata": {},
   "outputs": [],
   "source": [
    "def generator():\n",
    "    while True:\n",
    "        inp,out = get_train_sample()\n",
    "        yield (inp, out)"
   ]
  },
  {
   "cell_type": "markdown",
   "metadata": {},
   "source": [
    "### RC-NMP_Callback:\n",
    "\n",
    "* RC-NMP_Callback is a customizable class that manages the RC-NMP training process.\n",
    "* <b>on_train_begin()</b>: Initializes the training process\n",
    "  * <b>step</b>: training step counter  \n",
    "  * <b>losses</b>: holds the training losses for every loss_checkpoint   \n",
    "  * <b>smooth_losses</b>: holds the means of losses[] for every plot_checkpoint \n",
    "  * <b>loss_checkpoint</b>: hyperparameter for loss recording\n",
    "  * <b>plot_checkpoint</b>: hyperparameter for loss smoothing and on-train example plotting\n",
    "  * <b>validation_checkpoint</b>: hyperparameter for validation checking to record best model\n",
    "* <b>on_batch_end()</b>: \n",
    "  * End of every training iteration, step counter increases\n",
    "  * Customized checkpoints are handled if step counter gets to the corresponding checkpoint\n",
    "  \n",
    "  "
   ]
  },
  {
   "cell_type": "code",
   "execution_count": 12,
   "metadata": {},
   "outputs": [],
   "source": [
    "class RCNMP_Callback(keras.callbacks.Callback):\n",
    "    def on_train_begin(self, logs={}):\n",
    "        self.smooth_losses = [0]\n",
    "        self.losses = []\n",
    "        self.step = 0\n",
    "        self.loss_checkpoint = 1000\n",
    "        self.plot_checkpoint = 5000\n",
    "\n",
    "        return\n",
    "\n",
    "    def on_batch_end(self, batch, logs={}):\n",
    "\n",
    "        if self.step % self.loss_checkpoint == 0:\n",
    "            self.losses.append(logs.get('loss'))\n",
    "            self.smooth_losses[-1] += logs.get('loss')/(self.plot_checkpoint/self.loss_checkpoint)\n",
    "            \n",
    "        if self.step % self.plot_checkpoint == 0:\n",
    "            print (self.step)\n",
    "            #clearing output cell\n",
    "            display.clear_output(wait=True)\n",
    "            display.display(pl.gcf())\n",
    "            \n",
    "            predict_model(np.concatenate((test_X[0,0],Y[0,0])).reshape(1,1,d_x+d_y), test_X[0].reshape(1,time_len,d_x),point_array)\n",
    "            \n",
    "            if self.step!=0:\n",
    "                self.smooth_losses.append(0)\n",
    "            \n",
    "        self.step += 1\n",
    "        return"
   ]
  },
  {
   "cell_type": "markdown",
   "metadata": {},
   "source": [
    "### Population Generation and Training"
   ]
  },
  {
   "cell_type": "code",
   "execution_count": 13,
   "metadata": {
    "scrolled": true
   },
   "outputs": [
    {
     "data": {
      "text/plain": [
       "<Figure size 432x288 with 0 Axes>"
      ]
     },
     "metadata": {},
     "output_type": "display_data"
    },
    {
     "data": {
      "text/plain": [
       "<Figure size 432x288 with 0 Axes>"
      ]
     },
     "metadata": {},
     "output_type": "display_data"
    },
    {
     "data": {
      "image/png": "[encoded data removed]",
      "text/plain": [
       "<Figure size 360x360 with 1 Axes>"
      ]
     },
     "metadata": {
      "needs_background": "light"
     },
     "output_type": "display_data"
    },
    {
     "name": "stdout",
     "output_type": "stream",
     "text": [
      "    49/100000 [..............................] - ETA: 37:07 - loss: 0.0812 - decoder_mlp_loss: 0.0787  "
     ]
    },
    {
     "name": "stderr",
     "output_type": "stream",
     "text": [
      "/home/tuluhan/.local/lib/python3.5/site-packages/keras/callbacks.py:122: UserWarning: Method on_batch_end() is slow compared to the batch update (0.143521). Check your callbacks.\n",
      "  % delta_t_median)\n"
     ]
    },
    {
     "name": "stdout",
     "output_type": "stream",
     "text": [
      "  4011/100000 [>.............................] - ETA: 2:58 - loss: 0.1147 - decoder_mlp_loss: 0.1146"
     ]
    },
    {
     "ename": "KeyboardInterrupt",
     "evalue": "",
     "output_type": "error",
     "traceback": [
      "\u001b[0;31m---------------------------------------------------------------------------\u001b[0m",
      "\u001b[0;31mKeyboardInterrupt\u001b[0m                         Traceback (most recent call last)",
      "\u001b[0;32m<ipython-input-13-fa317dd5313b>\u001b[0m in \u001b[0;36m<module>\u001b[0;34m\u001b[0m\n\u001b[1;32m    176\u001b[0m             \u001b[0mmax_training_step\u001b[0m \u001b[0;34m=\u001b[0m \u001b[0;36m50000\u001b[0m\u001b[0;34m\u001b[0m\u001b[0m\n\u001b[1;32m    177\u001b[0m         \u001b[0mprint\u001b[0m\u001b[0;34m(\u001b[0m\u001b[0md_N\u001b[0m\u001b[0;34m)\u001b[0m\u001b[0;34m\u001b[0m\u001b[0m\n\u001b[0;32m--> 178\u001b[0;31m         \u001b[0mmodel\u001b[0m\u001b[0;34m.\u001b[0m\u001b[0mfit_generator\u001b[0m\u001b[0;34m(\u001b[0m\u001b[0mgenerator\u001b[0m\u001b[0;34m(\u001b[0m\u001b[0;34m)\u001b[0m\u001b[0;34m,\u001b[0m \u001b[0msteps_per_epoch\u001b[0m\u001b[0;34m=\u001b[0m\u001b[0mmax_training_step\u001b[0m\u001b[0;34m,\u001b[0m \u001b[0mepochs\u001b[0m\u001b[0;34m=\u001b[0m\u001b[0;36m1\u001b[0m\u001b[0;34m,\u001b[0m \u001b[0mverbose\u001b[0m\u001b[0;34m=\u001b[0m\u001b[0;36m1\u001b[0m\u001b[0;34m,\u001b[0m \u001b[0mcallbacks\u001b[0m\u001b[0;34m=\u001b[0m\u001b[0;34m[\u001b[0m\u001b[0mRCNMP_Callback\u001b[0m\u001b[0;34m(\u001b[0m\u001b[0;34m)\u001b[0m\u001b[0;34m]\u001b[0m\u001b[0;34m)\u001b[0m\u001b[0;34m\u001b[0m\u001b[0m\n\u001b[0m\u001b[1;32m    179\u001b[0m         \u001b[0;32mif\u001b[0m \u001b[0mr_min\u001b[0m\u001b[0;34m<\u001b[0m\u001b[0;36m0.05\u001b[0m\u001b[0;34m:\u001b[0m\u001b[0;34m\u001b[0m\u001b[0m\n\u001b[1;32m    180\u001b[0m             \u001b[0;32mbreak\u001b[0m\u001b[0;34m\u001b[0m\u001b[0m\n",
      "\u001b[0;32m~/.local/lib/python3.5/site-packages/keras/legacy/interfaces.py\u001b[0m in \u001b[0;36mwrapper\u001b[0;34m(*args, **kwargs)\u001b[0m\n\u001b[1;32m     89\u001b[0m                 warnings.warn('Update your `' + object_name + '` call to the ' +\n\u001b[1;32m     90\u001b[0m                               'Keras 2 API: ' + signature, stacklevel=2)\n\u001b[0;32m---> 91\u001b[0;31m             \u001b[0;32mreturn\u001b[0m \u001b[0mfunc\u001b[0m\u001b[0;34m(\u001b[0m\u001b[0;34m*\u001b[0m\u001b[0margs\u001b[0m\u001b[0;34m,\u001b[0m \u001b[0;34m**\u001b[0m\u001b[0mkwargs\u001b[0m\u001b[0;34m)\u001b[0m\u001b[0;34m\u001b[0m\u001b[0m\n\u001b[0m\u001b[1;32m     92\u001b[0m         \u001b[0mwrapper\u001b[0m\u001b[0;34m.\u001b[0m\u001b[0m_original_function\u001b[0m \u001b[0;34m=\u001b[0m \u001b[0mfunc\u001b[0m\u001b[0;34m\u001b[0m\u001b[0m\n\u001b[1;32m     93\u001b[0m         \u001b[0;32mreturn\u001b[0m \u001b[0mwrapper\u001b[0m\u001b[0;34m\u001b[0m\u001b[0m\n",
      "\u001b[0;32m~/.local/lib/python3.5/site-packages/keras/engine/training.py\u001b[0m in \u001b[0;36mfit_generator\u001b[0;34m(self, generator, steps_per_epoch, epochs, verbose, callbacks, validation_data, validation_steps, class_weight, max_queue_size, workers, use_multiprocessing, shuffle, initial_epoch)\u001b[0m\n\u001b[1;32m   1416\u001b[0m             \u001b[0muse_multiprocessing\u001b[0m\u001b[0;34m=\u001b[0m\u001b[0muse_multiprocessing\u001b[0m\u001b[0;34m,\u001b[0m\u001b[0;34m\u001b[0m\u001b[0m\n\u001b[1;32m   1417\u001b[0m             \u001b[0mshuffle\u001b[0m\u001b[0;34m=\u001b[0m\u001b[0mshuffle\u001b[0m\u001b[0;34m,\u001b[0m\u001b[0;34m\u001b[0m\u001b[0m\n\u001b[0;32m-> 1418\u001b[0;31m             initial_epoch=initial_epoch)\n\u001b[0m\u001b[1;32m   1419\u001b[0m \u001b[0;34m\u001b[0m\u001b[0m\n\u001b[1;32m   1420\u001b[0m     \u001b[0;34m@\u001b[0m\u001b[0minterfaces\u001b[0m\u001b[0;34m.\u001b[0m\u001b[0mlegacy_generator_methods_support\u001b[0m\u001b[0;34m\u001b[0m\u001b[0m\n",
      "\u001b[0;32m~/.local/lib/python3.5/site-packages/keras/engine/training_generator.py\u001b[0m in \u001b[0;36mfit_generator\u001b[0;34m(model, generator, steps_per_epoch, epochs, verbose, callbacks, validation_data, validation_steps, class_weight, max_queue_size, workers, use_multiprocessing, shuffle, initial_epoch)\u001b[0m\n\u001b[1;32m    211\u001b[0m                 \u001b[0mbatch_logs\u001b[0m\u001b[0;34m[\u001b[0m\u001b[0;34m'batch'\u001b[0m\u001b[0;34m]\u001b[0m \u001b[0;34m=\u001b[0m \u001b[0mbatch_index\u001b[0m\u001b[0;34m\u001b[0m\u001b[0m\n\u001b[1;32m    212\u001b[0m                 \u001b[0mbatch_logs\u001b[0m\u001b[0;34m[\u001b[0m\u001b[0;34m'size'\u001b[0m\u001b[0;34m]\u001b[0m \u001b[0;34m=\u001b[0m \u001b[0mbatch_size\u001b[0m\u001b[0;34m\u001b[0m\u001b[0m\n\u001b[0;32m--> 213\u001b[0;31m                 \u001b[0mcallbacks\u001b[0m\u001b[0;34m.\u001b[0m\u001b[0mon_batch_begin\u001b[0m\u001b[0;34m(\u001b[0m\u001b[0mbatch_index\u001b[0m\u001b[0;34m,\u001b[0m \u001b[0mbatch_logs\u001b[0m\u001b[0;34m)\u001b[0m\u001b[0;34m\u001b[0m\u001b[0m\n\u001b[0m\u001b[1;32m    214\u001b[0m \u001b[0;34m\u001b[0m\u001b[0m\n\u001b[1;32m    215\u001b[0m                 outs = model.train_on_batch(x, y,\n",
      "\u001b[0;32m~/.local/lib/python3.5/site-packages/keras/callbacks.py\u001b[0m in \u001b[0;36mon_batch_begin\u001b[0;34m(self, batch, logs)\u001b[0m\n\u001b[1;32m     91\u001b[0m             \u001b[0mcallback\u001b[0m\u001b[0;34m.\u001b[0m\u001b[0mon_batch_begin\u001b[0m\u001b[0;34m(\u001b[0m\u001b[0mbatch\u001b[0m\u001b[0;34m,\u001b[0m \u001b[0mlogs\u001b[0m\u001b[0;34m)\u001b[0m\u001b[0;34m\u001b[0m\u001b[0m\n\u001b[1;32m     92\u001b[0m         \u001b[0mself\u001b[0m\u001b[0;34m.\u001b[0m\u001b[0m_delta_ts_batch_begin\u001b[0m\u001b[0;34m.\u001b[0m\u001b[0mappend\u001b[0m\u001b[0;34m(\u001b[0m\u001b[0mtime\u001b[0m\u001b[0;34m.\u001b[0m\u001b[0mtime\u001b[0m\u001b[0;34m(\u001b[0m\u001b[0;34m)\u001b[0m \u001b[0;34m-\u001b[0m \u001b[0mt_before_callbacks\u001b[0m\u001b[0;34m)\u001b[0m\u001b[0;34m\u001b[0m\u001b[0m\n\u001b[0;32m---> 93\u001b[0;31m         \u001b[0mdelta_t_median\u001b[0m \u001b[0;34m=\u001b[0m \u001b[0mnp\u001b[0m\u001b[0;34m.\u001b[0m\u001b[0mmedian\u001b[0m\u001b[0;34m(\u001b[0m\u001b[0mself\u001b[0m\u001b[0;34m.\u001b[0m\u001b[0m_delta_ts_batch_begin\u001b[0m\u001b[0;34m)\u001b[0m\u001b[0;34m\u001b[0m\u001b[0m\n\u001b[0m\u001b[1;32m     94\u001b[0m         if (self._delta_t_batch > 0. and\n\u001b[1;32m     95\u001b[0m            \u001b[0mdelta_t_median\u001b[0m \u001b[0;34m>\u001b[0m \u001b[0;36m0.95\u001b[0m \u001b[0;34m*\u001b[0m \u001b[0mself\u001b[0m\u001b[0;34m.\u001b[0m\u001b[0m_delta_t_batch\u001b[0m \u001b[0;32mand\u001b[0m\u001b[0;34m\u001b[0m\u001b[0m\n",
      "\u001b[0;32m<__array_function__ internals>\u001b[0m in \u001b[0;36mmedian\u001b[0;34m(*args, **kwargs)\u001b[0m\n",
      "\u001b[0;32m~/.local/lib/python3.5/site-packages/numpy/lib/function_base.py\u001b[0m in \u001b[0;36mmedian\u001b[0;34m(a, axis, out, overwrite_input, keepdims)\u001b[0m\n\u001b[1;32m   3500\u001b[0m     \"\"\"\n\u001b[1;32m   3501\u001b[0m     r, k = _ureduce(a, func=_median, axis=axis, out=out,\n\u001b[0;32m-> 3502\u001b[0;31m                     overwrite_input=overwrite_input)\n\u001b[0m\u001b[1;32m   3503\u001b[0m     \u001b[0;32mif\u001b[0m \u001b[0mkeepdims\u001b[0m\u001b[0;34m:\u001b[0m\u001b[0;34m\u001b[0m\u001b[0m\n\u001b[1;32m   3504\u001b[0m         \u001b[0;32mreturn\u001b[0m \u001b[0mr\u001b[0m\u001b[0;34m.\u001b[0m\u001b[0mreshape\u001b[0m\u001b[0;34m(\u001b[0m\u001b[0mk\u001b[0m\u001b[0;34m)\u001b[0m\u001b[0;34m\u001b[0m\u001b[0m\n",
      "\u001b[0;32m~/.local/lib/python3.5/site-packages/numpy/lib/function_base.py\u001b[0m in \u001b[0;36m_ureduce\u001b[0;34m(a, func, **kwargs)\u001b[0m\n\u001b[1;32m   3408\u001b[0m         \u001b[0mkeepdim\u001b[0m \u001b[0;34m=\u001b[0m \u001b[0;34m(\u001b[0m\u001b[0;36m1\u001b[0m\u001b[0;34m,\u001b[0m\u001b[0;34m)\u001b[0m \u001b[0;34m*\u001b[0m \u001b[0ma\u001b[0m\u001b[0;34m.\u001b[0m\u001b[0mndim\u001b[0m\u001b[0;34m\u001b[0m\u001b[0m\n\u001b[1;32m   3409\u001b[0m \u001b[0;34m\u001b[0m\u001b[0m\n\u001b[0;32m-> 3410\u001b[0;31m     \u001b[0mr\u001b[0m \u001b[0;34m=\u001b[0m \u001b[0mfunc\u001b[0m\u001b[0;34m(\u001b[0m\u001b[0ma\u001b[0m\u001b[0;34m,\u001b[0m \u001b[0;34m**\u001b[0m\u001b[0mkwargs\u001b[0m\u001b[0;34m)\u001b[0m\u001b[0;34m\u001b[0m\u001b[0m\n\u001b[0m\u001b[1;32m   3411\u001b[0m     \u001b[0;32mreturn\u001b[0m \u001b[0mr\u001b[0m\u001b[0;34m,\u001b[0m \u001b[0mkeepdim\u001b[0m\u001b[0;34m\u001b[0m\u001b[0m\n\u001b[1;32m   3412\u001b[0m \u001b[0;34m\u001b[0m\u001b[0m\n",
      "\u001b[0;32m~/.local/lib/python3.5/site-packages/numpy/lib/function_base.py\u001b[0m in \u001b[0;36m_median\u001b[0;34m(a, axis, out, overwrite_input)\u001b[0m\n\u001b[1;32m   3533\u001b[0m             \u001b[0mpart\u001b[0m \u001b[0;34m=\u001b[0m \u001b[0ma\u001b[0m\u001b[0;34m\u001b[0m\u001b[0m\n\u001b[1;32m   3534\u001b[0m     \u001b[0;32melse\u001b[0m\u001b[0;34m:\u001b[0m\u001b[0;34m\u001b[0m\u001b[0m\n\u001b[0;32m-> 3535\u001b[0;31m         \u001b[0mpart\u001b[0m \u001b[0;34m=\u001b[0m \u001b[0mpartition\u001b[0m\u001b[0;34m(\u001b[0m\u001b[0ma\u001b[0m\u001b[0;34m,\u001b[0m \u001b[0mkth\u001b[0m\u001b[0;34m,\u001b[0m \u001b[0maxis\u001b[0m\u001b[0;34m=\u001b[0m\u001b[0maxis\u001b[0m\u001b[0;34m)\u001b[0m\u001b[0;34m\u001b[0m\u001b[0m\n\u001b[0m\u001b[1;32m   3536\u001b[0m \u001b[0;34m\u001b[0m\u001b[0m\n\u001b[1;32m   3537\u001b[0m     \u001b[0;32mif\u001b[0m \u001b[0mpart\u001b[0m\u001b[0;34m.\u001b[0m\u001b[0mshape\u001b[0m \u001b[0;34m==\u001b[0m \u001b[0;34m(\u001b[0m\u001b[0;34m)\u001b[0m\u001b[0;34m:\u001b[0m\u001b[0;34m\u001b[0m\u001b[0m\n",
      "\u001b[0;32m<__array_function__ internals>\u001b[0m in \u001b[0;36mpartition\u001b[0;34m(*args, **kwargs)\u001b[0m\n",
      "\u001b[0;32m~/.local/lib/python3.5/site-packages/numpy/core/fromnumeric.py\u001b[0m in \u001b[0;36mpartition\u001b[0;34m(a, kth, axis, kind, order)\u001b[0m\n\u001b[1;32m    743\u001b[0m     \u001b[0;32melse\u001b[0m\u001b[0;34m:\u001b[0m\u001b[0;34m\u001b[0m\u001b[0m\n\u001b[1;32m    744\u001b[0m         \u001b[0ma\u001b[0m \u001b[0;34m=\u001b[0m \u001b[0masanyarray\u001b[0m\u001b[0;34m(\u001b[0m\u001b[0ma\u001b[0m\u001b[0;34m)\u001b[0m\u001b[0;34m.\u001b[0m\u001b[0mcopy\u001b[0m\u001b[0;34m(\u001b[0m\u001b[0morder\u001b[0m\u001b[0;34m=\u001b[0m\u001b[0;34m\"K\"\u001b[0m\u001b[0;34m)\u001b[0m\u001b[0;34m\u001b[0m\u001b[0m\n\u001b[0;32m--> 745\u001b[0;31m     \u001b[0ma\u001b[0m\u001b[0;34m.\u001b[0m\u001b[0mpartition\u001b[0m\u001b[0;34m(\u001b[0m\u001b[0mkth\u001b[0m\u001b[0;34m,\u001b[0m \u001b[0maxis\u001b[0m\u001b[0;34m=\u001b[0m\u001b[0maxis\u001b[0m\u001b[0;34m,\u001b[0m \u001b[0mkind\u001b[0m\u001b[0;34m=\u001b[0m\u001b[0mkind\u001b[0m\u001b[0;34m,\u001b[0m \u001b[0morder\u001b[0m\u001b[0;34m=\u001b[0m\u001b[0morder\u001b[0m\u001b[0;34m)\u001b[0m\u001b[0;34m\u001b[0m\u001b[0m\n\u001b[0m\u001b[1;32m    746\u001b[0m     \u001b[0;32mreturn\u001b[0m \u001b[0ma\u001b[0m\u001b[0;34m\u001b[0m\u001b[0m\n\u001b[1;32m    747\u001b[0m \u001b[0;34m\u001b[0m\u001b[0m\n",
      "\u001b[0;31mKeyboardInterrupt\u001b[0m: "
     ]
    }
   ],
   "source": [
    "batch_size = 15 \n",
    "gen_size = 10\n",
    "cross_size = 10\n",
    "global X\n",
    "global Y\n",
    "global d_N\n",
    "global test_X\n",
    "global point_array\n",
    "reward_array = np.zeros((10,30))\n",
    "point_list3 = np.load('random_points.npy',allow_pickle = True)\n",
    "Y_best = np.zeros((1,time_N,1))\n",
    "for b in range (0,10):\n",
    "    model.load_weights('initial_weights.h5')\n",
    "    point_array = np.array(point_list3[b])\n",
    "\n",
    "    Y_old = np.zeros((1,time_len,1))\n",
    "\n",
    "    X_old = np.zeros((1,time_len,2))\n",
    "\n",
    "    samples = np.random.normal(0, 0.1, size=20)\n",
    "\n",
    "    old_indices = np.arange(0,len(samples))\n",
    "    new_length = 200\n",
    "    new_indices = np.linspace(0,len(samples)-1,new_length)\n",
    "\n",
    "    spl = UnivariateSpline(old_indices,samples,k=3,s=0.1)\n",
    "\n",
    "    task_exploration=spl(new_indices)\n",
    "\n",
    "    Y_old[0,:,0] = Y_old[0,:,0]+ task_exploration\n",
    "\n",
    "    reward_of_traj = reward_func(Y_old[0,:,0],point_array)\n",
    "\n",
    "    for j in range(time_N):\n",
    "        X_old[0,j,0]=times[j]\n",
    "        X_old[0,j,1]=reward_of_traj\n",
    "\n",
    "\n",
    "    for a in range (30):\n",
    "\n",
    "        Y_new = np.zeros((gen_size,time_len,1))\n",
    "\n",
    "        Y_cross = np.zeros((cross_size,time_len,1))\n",
    "\n",
    "        observation = np.zeros((1,1,d_x+d_y)) \n",
    "        observation[0,0,:d_x] = test_X[0,0]\n",
    "        observation[0,0,d_x:d_x+d_y] = [0]\n",
    "        target_X = test_X[0].reshape(1,time_len,d_x)\n",
    "\n",
    "        mean_rep = model_z.predict([observation])[0]         #mean_representations for best reward\n",
    "        var_rep2 = model_z_var2.predict([observation])[0]         #var_representations for best reward\n",
    "        var_rep2 = var_rep2 +14* np.ones((4))\n",
    "        cov_matrix = np.diag(var_rep2)\n",
    "        temp_reps_list = []\n",
    "        for i in range(gen_size):\n",
    "            temp_reps = np.random.multivariate_normal(mean_rep, cov_matrix, 1)\n",
    "\n",
    "            temp_reps = np.reshape(temp_reps,(1,1,4))         #predicted_traj using reps\n",
    "            temp_reps_list.append(temp_reps)\n",
    "            temp_reps = np.repeat(temp_reps,200,axis=1)\n",
    "            decoder_in = np.concatenate((temp_reps,target_X),axis = 2)\n",
    "            prediction = Decoder.predict(decoder_in)\n",
    "\n",
    "            samples = np.random.normal(0, 0.08, size=20)\n",
    "\n",
    "            old_indices = np.arange(0,len(samples))\n",
    "            new_length = 200\n",
    "            new_indices = np.linspace(0,len(samples)-1,new_length)\n",
    "\n",
    "            spl = UnivariateSpline(old_indices,samples,k=3,s=0.1)\n",
    "\n",
    "            task_exploration=spl(new_indices)\n",
    "\n",
    "            Y_new[i,:,0] = prediction[0,:,0]+ task_exploration\n",
    "\n",
    "        Y_temp = np.concatenate((Y_old,Y_new),axis=0)\n",
    "        np.random.shuffle(Y_temp)\n",
    "\n",
    "        for i in range(int(cross_size/2)):\n",
    "\n",
    "            r1 = i*2\n",
    "            r2 = i*2+1\n",
    "\n",
    "            cut_time = np.random.randint(40, 160)\n",
    "            \n",
    "            c_reps1 = temp_reps_list[r1]\n",
    "            c_reps2 = temp_reps_list[r2]\n",
    "            aa_reps = np.repeat(c_reps1,cut_time,axis=1)\n",
    "            bb_reps = np.repeat(c_reps1,200-cut_time,axis=1)\n",
    "            cc_reps = np.repeat(c_reps2,cut_time,axis=1)\n",
    "            dd_reps = np.repeat(c_reps2,200-cut_time,axis=1)\n",
    "            cross_reps1 = np.concatenate((aa_reps,dd_reps), axis = 1)\n",
    "            cross_reps2 = np.concatenate((bb_reps,cc_reps), axis = 1)\n",
    "            \n",
    "            \n",
    "            decoder_in1 = np.concatenate((cross_reps1,target_X),axis = 2)\n",
    "            prediction1 = Decoder.predict(decoder_in1)\n",
    "\n",
    "            samples = np.random.normal(0, 0.08, size=20)\n",
    "\n",
    "            old_indices = np.arange(0,len(samples))\n",
    "            new_length = 200\n",
    "            new_indices = np.linspace(0,len(samples)-1,new_length)\n",
    "\n",
    "            spl = UnivariateSpline(old_indices,samples,k=3,s=0.1)\n",
    "\n",
    "            task_exploration=spl(new_indices)\n",
    "\n",
    "            Y_cross[r1,:,0] = prediction1[0,:,0]+ task_exploration\n",
    "            \n",
    "            \n",
    "            decoder_in2 = np.concatenate((cross_reps2,target_X),axis = 2)\n",
    "            prediction2 = Decoder.predict(decoder_in2)\n",
    "\n",
    "            samples = np.random.normal(0, 0.08, size=20)\n",
    "\n",
    "            old_indices = np.arange(0,len(samples))\n",
    "            new_length = 200\n",
    "            new_indices = np.linspace(0,len(samples)-1,new_length)\n",
    "\n",
    "            spl = UnivariateSpline(old_indices,samples,k=3,s=0.1)\n",
    "\n",
    "            task_exploration=spl(new_indices)\n",
    "\n",
    "            Y_cross[r2,:,0] = prediction2[0,:,0]+ task_exploration\n",
    "\n",
    "\n",
    "        Y = np.concatenate((Y_temp,Y_cross),axis=0)\n",
    "        #Y = np.concatenate((Y,Y_best),axis=0)\n",
    "        Y_shuffle = np.concatenate((Y_new,Y_cross),axis=0)\n",
    "        np.random.shuffle(Y_shuffle)\n",
    "        X_shuffle = np.zeros((len(Y_shuffle),time_len,2))\n",
    "\n",
    "        for i in range (len(Y_shuffle)):\n",
    "            rwrd = reward_func(Y_shuffle[i,:,0],point_array)\n",
    "            for j in range(time_N):\n",
    "                    X_shuffle[i,j,0]=times[j]\n",
    "                    X_shuffle[i,j,1]=rwrd      \n",
    "\n",
    "        X = np.zeros((len(Y),time_len,2))\n",
    "\n",
    "        r_min = 1000\n",
    "        d_N = len(Y)\n",
    "\n",
    "        for i in range (len(Y)):\n",
    "\n",
    "            reward_of_traj = reward_func(Y[i,:,0],point_array)\n",
    "            if reward_of_traj < r_min:\n",
    "                r_min = reward_of_traj\n",
    "                Y_best = np.reshape(Y[i],(1,time_N,1))\n",
    "            for j in range(time_N):\n",
    "                    X[i,j,0]=times[j]\n",
    "                    X[i,j,1]=reward_of_traj\n",
    "\n",
    "            plt.plot(times,Y[i,:,0])\n",
    "        plt.scatter(0,0,marker=\"X\",color='black')\n",
    "        plt.scatter(0.5,0.9,marker=\"X\",color='black')\n",
    "        plt.scatter(1,0.4,marker=\"X\",color='black')\n",
    "        plt.show()\n",
    "\n",
    "        for j in range(time_N):\n",
    "            test_X[0,j,0]=times[j]\n",
    "\n",
    "            test_X[0,j,1]=np.absolute(r_min)\n",
    "\n",
    "        Y_old = np.concatenate((Y_old,Y_shuffle[-2:]),axis=0)\n",
    "        X_old = np.concatenate((X_old,X_shuffle[-2:]),axis=0)\n",
    "        reward_array[b,a] = r_min\n",
    "\n",
    "        if len(Y_old)>15:\n",
    "            Y_old = Y_old[-15:]\n",
    "            X_old = X_old[-15:]\n",
    "        if a<5:\n",
    "            max_training_step = 100000\n",
    "        else:\n",
    "            max_training_step = 50000\n",
    "        print(d_N)\n",
    "        model.fit_generator(generator(), steps_per_epoch=max_training_step, epochs=1, verbose=1, callbacks=[RCNMP_Callback()])\n",
    "        if r_min<0.05:\n",
    "            break"
   ]
  },
  {
   "cell_type": "code",
   "execution_count": null,
   "metadata": {},
   "outputs": [],
   "source": [
    "print(b)\n",
    "print(len(Y))\n",
    "print(r_min)\n",
    "print(np.shape(mean_rep))\n",
    "print(mean_rep)"
   ]
  },
  {
   "cell_type": "code",
   "execution_count": null,
   "metadata": {},
   "outputs": [],
   "source": [
    "np.save('crossover_mutation_reward2',reward_array)"
   ]
  }
 ],
 "metadata": {
  "colab": {
   "collapsed_sections": [],
   "name": "ANP.ipynb",
   "provenance": []
  },
  "kernelspec": {
   "display_name": "Python 3",
   "language": "python",
   "name": "python3"
  },
  "language_info": {
   "codemirror_mode": {
    "name": "ipython",
    "version": 3
   },
   "file_extension": ".py",
   "mimetype": "text/x-python",
   "name": "python",
   "nbconvert_exporter": "python",
   "pygments_lexer": "ipython3",
   "version": "3.5.2"
  }
 },
 "nbformat": 4,
 "nbformat_minor": 1
}
